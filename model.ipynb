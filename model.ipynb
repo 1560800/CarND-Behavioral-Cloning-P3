{
 "cells": [
  {
   "cell_type": "code",
   "execution_count": 9,
   "metadata": {},
   "outputs": [
    {
     "name": "stdout",
     "output_type": "stream",
     "text": [
      "The csv file has been loaded.\n"
     ]
    }
   ],
   "source": [
    "import os\n",
    "import csv\n",
    "import numpy as np\n",
    "import pickle\n",
    "import cv2\n",
    "import random\n",
    "import math\n",
    "import matplotlib.pyplot as plt\n",
    "%matplotlib inline\n",
    "import sklearn\n",
    "from sklearn.model_selection import train_test_split\n",
    "from sklearn.utils import shuffle\n",
    "from keras.optimizers import Adam\n",
    "\n",
    "\n",
    "# Read the csv\n",
    "lines = []\n",
    "with open('./data/driving_log.csv') as csvfile:\n",
    "    reader = csv.reader(csvfile)\n",
    "    for line in reader:\n",
    "        lines.append(line)\n",
    "print(\"The csv file has been loaded.\")\n",
    "train_samples, validation_samples = train_test_split(lines, test_size=0.2)\n",
    "\n",
    "images = []\n",
    "measurements = []\n",
    "correction = 0.2\n",
    "num_lines = len(lines)\n",
    "def generator(lines, batch_size=32):\n",
    "    num_lines = len(lines)\n",
    "    while 1: # Loop forever so the generator never terminates\n",
    "        random.shuffle(lines)\n",
    "        for offset in range(0, num_lines, batch_size):\n",
    "            batch_samples = lines[offset:offset+batch_size]\n",
    "            augmented_images = []\n",
    "            augmented_measurements = []\n",
    "            for batch_sample in batch_samples:\n",
    "                    for i in range(3):\n",
    "                        source_path = batch_sample[i]\n",
    "                        filename = source_path.split('IMG')[-1]\n",
    "                        current_path = './data/IMG' + filename\n",
    "                        image = cv2.imread(current_path)\n",
    "                        image = cv2.cvtColor(image, cv2.COLOR_BGR2RGB)\n",
    "                        image = image[50:140,:,:] # 90*320*3\n",
    "                        image = cv2.resize(image, (204,68))# 68*204*3\n",
    "                        measurement = float(batch_sample[3])\n",
    "                        if i==1:\n",
    "                            measurement+= correction\n",
    "                        elif i==2:\n",
    "                            measurement-= correction\n",
    "                        augmented_images.append(image)\n",
    "                        augmented_measurements.append(measurement)\n",
    "                        augmented_images.append(cv2.flip(image,1))\n",
    "                        augmented_measurements.append(measurement* -1.0)\n",
    "            # trim image to only see section with road\n",
    "            X_train = np.array(augmented_images)\n",
    "            y_train = np.array(augmented_measurements) \n",
    "            yield sklearn.utils.shuffle(X_train, y_train)"
   ]
  },
  {
   "cell_type": "code",
   "execution_count": null,
   "metadata": {},
   "outputs": [
    {
     "name": "stderr",
     "output_type": "stream",
     "text": [
      "drive.py:15: UserWarning: Update your `Conv2D` call to the Keras 2 API: `Conv2D(24, (5, 5), activation=\"elu\", strides=(2, 2))`\n",
      "  from keras.models import load_model\n",
      "drive.py:16: UserWarning: Update your `Conv2D` call to the Keras 2 API: `Conv2D(36, (5, 5), activation=\"elu\", strides=(2, 2))`\n",
      "  import h5py\n",
      "drive.py:17: UserWarning: Update your `Conv2D` call to the Keras 2 API: `Conv2D(48, (5, 5), activation=\"elu\", strides=(2, 2))`\n",
      "  from keras import __version__ as keras_version\n",
      "drive.py:18: UserWarning: Update your `Conv2D` call to the Keras 2 API: `Conv2D(64, (3, 3), activation=\"elu\")`\n",
      "  \n",
      "drive.py:19: UserWarning: Update your `Conv2D` call to the Keras 2 API: `Conv2D(64, (3, 3), activation=\"elu\")`\n",
      "  sio = socketio.Server()\n"
     ]
    },
    {
     "name": "stdout",
     "output_type": "stream",
     "text": [
      "_________________________________________________________________\n",
      "Layer (type)                 Output Shape              Param #   \n",
      "=================================================================\n",
      "lambda_4 (Lambda)            (None, 68, 204, 3)        0         \n",
      "_________________________________________________________________\n",
      "conv2d_16 (Conv2D)           (None, 32, 100, 24)       1824      \n",
      "_________________________________________________________________\n",
      "conv2d_17 (Conv2D)           (None, 14, 48, 36)        21636     \n",
      "_________________________________________________________________\n",
      "conv2d_18 (Conv2D)           (None, 5, 22, 48)         43248     \n",
      "_________________________________________________________________\n",
      "conv2d_19 (Conv2D)           (None, 3, 20, 64)         27712     \n",
      "_________________________________________________________________\n",
      "conv2d_20 (Conv2D)           (None, 1, 18, 64)         36928     \n",
      "_________________________________________________________________\n",
      "dropout_4 (Dropout)          (None, 1, 18, 64)         0         \n",
      "_________________________________________________________________\n",
      "flatten_4 (Flatten)          (None, 1152)              0         \n",
      "_________________________________________________________________\n",
      "dense_13 (Dense)             (None, 100)               115300    \n",
      "_________________________________________________________________\n",
      "dense_14 (Dense)             (None, 50)                5050      \n",
      "_________________________________________________________________\n",
      "dense_15 (Dense)             (None, 10)                510       \n",
      "_________________________________________________________________\n",
      "dense_16 (Dense)             (None, 1)                 11        \n",
      "=================================================================\n",
      "Total params: 252,219\n",
      "Trainable params: 252,219\n",
      "Non-trainable params: 0\n",
      "_________________________________________________________________\n",
      "Epoch 1/30\n"
     ]
    }
   ],
   "source": [
    "# Set our batch size\n",
    "batch_size=32\n",
    "\n",
    "# compile and train the model using the generator function\n",
    "\n",
    "train_generator = generator(train_samples, batch_size=batch_size)\n",
    "validation_generator = generator(validation_samples, batch_size=batch_size)\n",
    "\n",
    "from keras.models import Sequential\n",
    "from keras.layers import Flatten, Dense, Lambda, Conv2D, MaxPooling2D, Dropout\n",
    "\n",
    "model = Sequential()\n",
    "# Preprocess incoming data, centered around zero with small standard deviation \n",
    "model.add(Lambda(lambda x:x/127.5-1.0, input_shape =(68,204,3)))\n",
    "model.add(Conv2D(24, 5, 5, activation='elu', subsample=(2, 2)))\n",
    "model.add(Conv2D(36, 5, 5, activation='elu', subsample=(2, 2)))\n",
    "model.add(Conv2D(48, 5, 5, activation='elu', subsample=(2, 2)))\n",
    "model.add(Conv2D(64, 3, 3, activation='elu'))\n",
    "model.add(Conv2D(64, 3, 3, activation='elu'))\n",
    "model.add(Dropout(0.5))\n",
    "model.add(Flatten())\n",
    "model.add(Dense(100, activation='elu'))\n",
    "model.add(Dense(50, activation='elu'))\n",
    "model.add(Dense(10, activation='elu'))\n",
    "model.add(Dense(1))\n",
    "model.summary()\n",
    "\n",
    "LEARNING_RATE =0.0001\n",
    "model.compile(loss='mean_squared_error', optimizer=Adam(lr=LEARNING_RATE))\n",
    "history_object = model.fit_generator(train_generator,\n",
    "            steps_per_epoch=math.ceil(len(train_samples)/batch_size),\n",
    "            validation_data=validation_generator,\n",
    "            validation_steps=math.ceil(len(validation_samples)/batch_size),\n",
    "            epochs=30, verbose=1)\n",
    "\n",
    "### print the keys contained in the history object\n",
    "print(history_object.history.keys())\n",
    "\n",
    "### plot the training and validation loss for each epoch\n",
    "plt.plot(history_object.history['loss'])\n",
    "plt.plot(history_object.history['val_loss'])\n",
    "plt.title('model mean squared error loss')\n",
    "plt.ylabel('mean squared error loss')\n",
    "plt.xlabel('epoch')\n",
    "plt.legend(['training set', 'validation set'], loc='upper right')\n",
    "plt.show()\n",
    "model.save('model.h5')"
   ]
  },
  {
   "cell_type": "code",
   "execution_count": null,
   "metadata": {},
   "outputs": [],
   "source": [
    "%run -i drive.py model.h5"
   ]
  },
  {
   "cell_type": "code",
   "execution_count": null,
   "metadata": {},
   "outputs": [],
   "source": [
    "import subprocess\n",
    "subprocess.run(['jupyter', 'nbconvert', '--to', 'python', 'test_190901-Copy5.ipynb'])"
   ]
  },
  {
   "cell_type": "code",
   "execution_count": null,
   "metadata": {},
   "outputs": [],
   "source": []
  },
  {
   "cell_type": "code",
   "execution_count": null,
   "metadata": {},
   "outputs": [],
   "source": []
  }
 ],
 "metadata": {
  "kernelspec": {
   "display_name": "Python 3",
   "language": "python",
   "name": "python3"
  },
  "language_info": {
   "codemirror_mode": {
    "name": "ipython",
    "version": 3
   },
   "file_extension": ".py",
   "mimetype": "text/x-python",
   "name": "python",
   "nbconvert_exporter": "python",
   "pygments_lexer": "ipython3",
   "version": "3.6.9"
  }
 },
 "nbformat": 4,
 "nbformat_minor": 2
}
